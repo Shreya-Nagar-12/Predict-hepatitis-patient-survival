{
 "cells": [
  {
   "cell_type": "code",
   "execution_count": 1,
   "metadata": {},
   "outputs": [],
   "source": [
    "%matplotlib inline"
   ]
  },
  {
   "cell_type": "code",
   "execution_count": 2,
   "metadata": {},
   "outputs": [],
   "source": [
    "from sklearn.ensemble import RandomForestClassifier\n",
    "from sklearn.model_selection import train_test_split, GridSearchCV\n",
    "from sklearn.metrics import roc_curve, auc,accuracy_score\n",
    "from sklearn.metrics import precision_recall_curve, confusion_matrix\n",
    "from sklearn.preprocessing import Imputer\n",
    "\n",
    "import pandas as pd\n",
    "import numpy as np\n",
    "import matplotlib.pyplot as plt\n",
    "import seaborn as sns"
   ]
  },
  {
   "cell_type": "code",
   "execution_count": 3,
   "metadata": {},
   "outputs": [],
   "source": [
    "hepatitis_data = pd.read_csv(\"dataset_55_hepatitis.csv\")"
   ]
  },
  {
   "cell_type": "code",
   "execution_count": 4,
   "metadata": {},
   "outputs": [],
   "source": [
    "replacements = {'no': 0,\n",
    "               'yes': 1,\n",
    "               'DIE': 0,\n",
    "               'LIVE': 1,\n",
    "               '?': np.nan,\n",
    "               'female': 0,\n",
    "               'male': 1}\n",
    "\n",
    "hepatitis_data.replace(replacements, inplace = True)"
   ]
  },
  {
   "cell_type": "code",
   "execution_count": 5,
   "metadata": {},
   "outputs": [],
   "source": [
    "hepatitis_data = hepatitis_data.astype(float)\n",
    "hepatitis_data[['ALBUMIN', 'ALK_PHOSPHATE', 'BILIRUBIN', 'SGOT']] = hepatitis_data[['ALBUMIN','ALK_PHOSPHATE', 'BILIRUBIN', 'SGOT']].applymap(np.log)"
   ]
  },
  {
   "cell_type": "code",
   "execution_count": 6,
   "metadata": {},
   "outputs": [
    {
     "data": {
      "text/plain": [
       "AGE                 0\n",
       "SEX                 0\n",
       "STEROID             1\n",
       "ANTIVIRALS          0\n",
       "FATIGUE             1\n",
       "MALAISE             1\n",
       "ANOREXIA            1\n",
       "LIVER_BIG          10\n",
       "LIVER_FIRM         11\n",
       "SPLEEN_PALPABLE     5\n",
       "SPIDERS             5\n",
       "ASCITES             5\n",
       "VARICES             5\n",
       "BILIRUBIN           6\n",
       "ALK_PHOSPHATE      29\n",
       "SGOT                4\n",
       "ALBUMIN            16\n",
       "PROTIME            67\n",
       "HISTOLOGY           0\n",
       "Class               0\n",
       "dtype: int64"
      ]
     },
     "execution_count": 6,
     "metadata": {},
     "output_type": "execute_result"
    }
   ],
   "source": [
    "hepatitis_data.isnull().sum() #shows how many nulls are there in each variable"
   ]
  },
  {
   "cell_type": "code",
   "execution_count": 7,
   "metadata": {},
   "outputs": [],
   "source": [
    "x = hepatitis_data.iloc[:,0:19] #x = hepatitis_data.iloc[:, hepatitis_data.columns != 'Class']\n",
    "y = hepatitis_data.iloc[:,19] #y = hepatitis_data.iloc[:, hepatitis_data.columns == 'Class']"
   ]
  },
  {
   "cell_type": "code",
   "execution_count": 8,
   "metadata": {},
   "outputs": [],
   "source": [
    "X_train,X_test,Y_train,Y_test=train_test_split(x,y,test_size=0.2,random_state=0)\n",
    "Y_train = Y_train.values.ravel()\n",
    "Y_test = Y_test.values.ravel()"
   ]
  },
  {
   "cell_type": "code",
   "execution_count": 9,
   "metadata": {},
   "outputs": [
    {
     "name": "stderr",
     "output_type": "stream",
     "text": [
      "C:\\Users\\Lenovo\\Anaconda3\\lib\\site-packages\\sklearn\\utils\\deprecation.py:58: DeprecationWarning: Class Imputer is deprecated; Imputer was deprecated in version 0.20 and will be removed in 0.22. Import impute.SimpleImputer from sklearn instead.\n",
      "  warnings.warn(msg, category=DeprecationWarning)\n"
     ]
    }
   ],
   "source": [
    "imp = Imputer(missing_values = 'NaN', strategy = \"most_frequent\", axis = 0)\n",
    "# replaces the missing values with the most frequent value in the column (axis = 0).\n",
    "imp = imp.fit(X_train)\n",
    "\n",
    "X_train_imp = imp.transform(X_train)"
   ]
  },
  {
   "cell_type": "code",
   "execution_count": 10,
   "metadata": {},
   "outputs": [
    {
     "name": "stderr",
     "output_type": "stream",
     "text": [
      "C:\\Users\\Lenovo\\Anaconda3\\lib\\site-packages\\sklearn\\ensemble\\forest.py:246: FutureWarning: The default value of n_estimators will change from 10 in version 0.20 to 100 in 0.22.\n",
      "  \"10 in version 0.20 to 100 in 0.22.\", FutureWarning)\n"
     ]
    }
   ],
   "source": [
    "fit_random_forest = RandomForestClassifier(random_state = 42)\n",
    "fit_random_forest.fit(X_train_imp, Y_train);\n",
    "\n",
    "X_test_imp = imp.transform(X_test)\n",
    "y_predicted = fit_random_forest.predict(X_test_imp)"
   ]
  },
  {
   "cell_type": "code",
   "execution_count": 11,
   "metadata": {},
   "outputs": [
    {
     "name": "stdout",
     "output_type": "stream",
     "text": [
      "77.42 %\n"
     ]
    }
   ],
   "source": [
    "accuracy = accuracy_score(Y_test, y_predicted)*100\n",
    "print(round(accuracy, 2), '%')"
   ]
  },
  {
   "cell_type": "code",
   "execution_count": 12,
   "metadata": {},
   "outputs": [],
   "source": [
    "parameters_optimize = {\n",
    "                      'max_features': ['auto', 'sqrt', 'log2', None], \n",
    "                      'max_depth': [2,3, 4],\n",
    "                      'criterion': ['gini', 'entropy'],\n",
    "                      'bootstrap': [True, False],\n",
    "                      'n_estimators': [2, 5, 10, 15, 20]\n",
    "                      } #Hyperparameters tuning"
   ]
  },
  {
   "cell_type": "code",
   "execution_count": 13,
   "metadata": {},
   "outputs": [
    {
     "name": "stderr",
     "output_type": "stream",
     "text": [
      "C:\\Users\\Lenovo\\Anaconda3\\lib\\site-packages\\sklearn\\model_selection\\_search.py:841: DeprecationWarning: The default of the `iid` parameter will change from True to False in version 0.22 and will be removed in 0.24. This will change numeric results when test-set sizes are unequal.\n",
      "  DeprecationWarning)\n"
     ]
    },
    {
     "data": {
      "text/plain": [
       "GridSearchCV(cv=20, error_score='raise-deprecating',\n",
       "       estimator=RandomForestClassifier(bootstrap=True, class_weight=None, criterion='gini',\n",
       "            max_depth=None, max_features='auto', max_leaf_nodes=None,\n",
       "            min_impurity_decrease=0.0, min_impurity_split=None,\n",
       "            min_samples_leaf=1, min_samples_split=2,\n",
       "            min_weight_fraction_leaf=0.0, n_estimators='warn', n_jobs=None,\n",
       "            oob_score=False, random_state=None, verbose=0,\n",
       "            warm_start=False),\n",
       "       fit_params=None, iid='warn', n_jobs=3,\n",
       "       param_grid={'max_features': ['auto', 'sqrt', 'log2', None], 'max_depth': [2, 3, 4], 'criterion': ['gini', 'entropy'], 'bootstrap': [True, False], 'n_estimators': [2, 5, 10, 15, 20]},\n",
       "       pre_dispatch='2*n_jobs', refit=True, return_train_score='warn',\n",
       "       scoring=None, verbose=0)"
      ]
     },
     "execution_count": 13,
     "metadata": {},
     "output_type": "execute_result"
    }
   ],
   "source": [
    "random_forest_hyp = RandomForestClassifier()\n",
    "\n",
    "random_forest_search = GridSearchCV(random_forest_hyp,\n",
    "                                   cv = 20,\n",
    "                                   param_grid = parameters_optimize,\n",
    "                                   n_jobs = 3)\n",
    "random_forest_search.fit(X_train_imp, Y_train)"
   ]
  },
  {
   "cell_type": "code",
   "execution_count": 14,
   "metadata": {},
   "outputs": [
    {
     "name": "stdout",
     "output_type": "stream",
     "text": [
      "The best parameteres after GridSearchCV {'bootstrap': True, 'criterion': 'gini', 'max_depth': 3, 'max_features': 'sqrt', 'n_estimators': 10}\n"
     ]
    }
   ],
   "source": [
    "print('The best parameteres after GridSearchCV', random_forest_search.best_params_)"
   ]
  },
  {
   "cell_type": "code",
   "execution_count": 15,
   "metadata": {},
   "outputs": [],
   "source": [
    "random_forest_hyp.set_params(bootstrap = True, \n",
    "                            criterion = 'gini',\n",
    "                            max_depth = 4,\n",
    "                            max_features = 'auto',\n",
    "                            n_estimators = 20)\n",
    "\n",
    "random_forest_hyp.fit(X_train_imp, Y_train)\n",
    "\n",
    "y_predicted_grid = random_forest_hyp.predict(X_test_imp)"
   ]
  },
  {
   "cell_type": "code",
   "execution_count": 16,
   "metadata": {},
   "outputs": [
    {
     "name": "stdout",
     "output_type": "stream",
     "text": [
      "77.42 %\n"
     ]
    }
   ],
   "source": [
    "accuracy_grid = accuracy_score(Y_test, y_predicted_grid)*100\n",
    "print(round(accuracy_grid, 2), '%')"
   ]
  },
  {
   "cell_type": "code",
   "execution_count": 17,
   "metadata": {},
   "outputs": [
    {
     "data": {
      "text/plain": [
       "<matplotlib.axes._subplots.AxesSubplot at 0x171381b6860>"
      ]
     },
     "execution_count": 17,
     "metadata": {},
     "output_type": "execute_result"
    },
    {
     "data": {
      "image/png": "[encoded data removed]",
      "text/plain": [
       "<Figure size 432x288 with 2 Axes>"
      ]
     },
     "metadata": {
      "needs_background": "light"
     },
     "output_type": "display_data"
    }
   ],
   "source": [
    "plt.figure()\n",
    "random_confusion = confusion_matrix(Y_test, y_predicted_grid)\n",
    "sns.heatmap(random_confusion, annot = True)"
   ]
  },
  {
   "cell_type": "code",
   "execution_count": 18,
   "metadata": {},
   "outputs": [
    {
     "name": "stdout",
     "output_type": "stream",
     "text": [
      "0.6111111111111112\n"
     ]
    }
   ],
   "source": [
    "fpr, tpr, _= roc_curve(Y_test, y_predicted_grid)\n",
    "\n",
    "auc_random_grid = auc(fpr, tpr)\n",
    "print(auc_random_grid)"
   ]
  },
  {
   "cell_type": "code",
   "execution_count": 19,
   "metadata": {},
   "outputs": [
    {
     "data": {
      "text/plain": [
       "Text(0, 0.5, 'True Positive rate')"
      ]
     },
     "execution_count": 19,
     "metadata": {},
     "output_type": "execute_result"
    },
    {
     "data": {
      "image/png": "[encoded data removed]",
      "text/plain": [
       "<Figure size 432x288 with 1 Axes>"
      ]
     },
     "metadata": {
      "needs_background": "light"
     },
     "output_type": "display_data"
    }
   ],
   "source": [
    "plt.figure()\n",
    "plt.plot(fpr, tpr, color ='Green', linewidth = 1)\n",
    "plt.title('ROC curve for Random Forest')\n",
    "plt.plot([0,1], [0,1], 'k--', lw = 1)\n",
    "plt.plot([0,0], [1,0], 'k--', lw = 1, color = 'black')\n",
    "plt.plot([1,0], [1,1], 'k--', lw = 1, color = 'black')\n",
    "plt.xlabel('False Positive rate')\n",
    "plt.ylabel('True Positive rate')"
   ]
  },
  {
   "cell_type": "code",
   "execution_count": null,
   "metadata": {},
   "outputs": [],
   "source": []
  }
 ],
 "metadata": {
  "kernelspec": {
   "display_name": "Python 3",
   "language": "python",
   "name": "python3"
  },
  "language_info": {
   "codemirror_mode": {
    "name": "ipython",
    "version": 3
   },
   "file_extension": ".py",
   "mimetype": "text/x-python",
   "name": "python",
   "nbconvert_exporter": "python",
   "pygments_lexer": "ipython3",
   "version": "3.7.3"
  }
 },
 "nbformat": 4,
 "nbformat_minor": 2
}
